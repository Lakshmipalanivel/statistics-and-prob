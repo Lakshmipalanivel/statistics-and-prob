{
 "cells": [
  {
   "cell_type": "markdown",
   "id": "8f925a5e",
   "metadata": {},
   "source": [
    "<h2>Ques 1</h2>"
   ]
  },
  {
   "cell_type": "code",
   "execution_count": 8,
   "id": "4f6ae1b6",
   "metadata": {},
   "outputs": [],
   "source": [
    "PA=13/52\n",
    "    \n",
    "PB=13/51\n",
    "    \n",
    "PC=13/50\n",
    "        \n",
    "P=PA*PB*PC"
   ]
  },
  {
   "cell_type": "code",
   "execution_count": 9,
   "id": "220587b9",
   "metadata": {
    "scrolled": true
   },
   "outputs": [
    {
     "name": "stdout",
     "output_type": "stream",
     "text": [
      "The total probability is: 0.01656862745098039\n"
     ]
    }
   ],
   "source": [
    "print(\"The total probability is:\",P)"
   ]
  },
  {
   "cell_type": "markdown",
   "id": "dbff1568",
   "metadata": {},
   "source": [
    "<h2>Ques 2</h2>"
   ]
  },
  {
   "cell_type": "markdown",
   "id": "940671d3",
   "metadata": {},
   "source": [
    "PA or PC =?  PB or PD=?"
   ]
  },
  {
   "cell_type": "code",
   "execution_count": 18,
   "id": "cfed191d",
   "metadata": {},
   "outputs": [],
   "source": [
    "\n",
    "    PA=42/100\n",
    "    PB=54/100\n",
    "    PC=36/100\n",
    "    PD=12/100\n",
    "    PP=PA*PC\n",
    "    PQ=PB*PD\n",
    "    P=PA*PC/PB*PD\n",
    "    "
   ]
  },
  {
   "cell_type": "code",
   "execution_count": 19,
   "id": "b4d3d9c4",
   "metadata": {
    "scrolled": true
   },
   "outputs": [
    {
     "name": "stdout",
     "output_type": "stream",
     "text": [
      "The total probability is: 0.1512\n"
     ]
    }
   ],
   "source": [
    "print(\"The total probability is:\",PP)"
   ]
  },
  {
   "cell_type": "code",
   "execution_count": 20,
   "id": "e414ec4a",
   "metadata": {},
   "outputs": [
    {
     "name": "stdout",
     "output_type": "stream",
     "text": [
      "The total probability is: 0.0648\n"
     ]
    }
   ],
   "source": [
    "print(\"The total probability is:\",Pq)"
   ]
  },
  {
   "cell_type": "code",
   "execution_count": 21,
   "id": "f4b7f971",
   "metadata": {},
   "outputs": [
    {
     "name": "stdout",
     "output_type": "stream",
     "text": [
      "The total probability is: 0.0336\n"
     ]
    }
   ],
   "source": [
    "print(\"The total probability is:\",P)"
   ]
  },
  {
   "cell_type": "markdown",
   "id": "55ddd634",
   "metadata": {},
   "source": [
    "<h2>Ques 3</h2>"
   ]
  },
  {
   "cell_type": "markdown",
   "id": "7d30f196",
   "metadata": {},
   "source": [
    "BagA = 3redball,5blackball\n",
    "BagB = 4whiteball,7blackball"
   ]
  },
  {
   "cell_type": "code",
   "execution_count": null,
   "id": "a293deaa",
   "metadata": {},
   "outputs": [],
   "source": [
    "P(A)=1/2 #prob of bagA,bagB \n",
    "P(B)=1/2 \n",
    "P(C)=5/8 #prob of bb from bagA \n",
    "P(D)=7/11 #prob of bb from bagB\n",
    "P(E)=?"
   ]
  },
  {
   "cell_type": "code",
   "execution_count": 29,
   "id": "525c30d3",
   "metadata": {},
   "outputs": [
    {
     "name": "stdout",
     "output_type": "stream",
     "text": [
      "The probability of bag B selected: 0.14256\n"
     ]
    }
   ],
   "source": [
    "PE=(PB+PD)*((PA*PC)+(PB*PD))\n",
    "print(\"The probability of bag B selected:\",PE)"
   ]
  },
  {
   "cell_type": "code",
   "execution_count": null,
   "id": "2146a9db",
   "metadata": {},
   "outputs": [],
   "source": [
    "a)Receiving 10 applications in 1 minute\n",
    "     lambda = 450/60\n",
    "     lambda = 15/2 , x=10\n",
    "        P(X=x) = e**?(-15/2).(15/2)**10\n",
    "                ------------------------\n",
    "                        10!\n",
    "                =0.0858\n",
    "                \n",
    "b)Receiving atleast 17 applications in 2 \n",
    "        \n",
    "       P(X = x) = e**(-15/2).(15/2)**17\n",
    "                 -----------------------\n",
    "                         17!\n",
    "                =0.63\n",
    "                "
   ]
  },
  {
   "cell_type": "markdown",
   "id": "4f0a8ad6",
   "metadata": {},
   "source": [
    "<H2>Ques 6</H2>"
   ]
  },
  {
   "cell_type": "markdown",
   "id": "6c4e2a57",
   "metadata": {},
   "source": [
    "X = 350870\n",
    "σ = 12405\n",
    "Z = ?"
   ]
  },
  {
   "cell_type": "code",
   "execution_count": 26,
   "id": "09c055f7",
   "metadata": {},
   "outputs": [
    {
     "name": "stdout",
     "output_type": "stream",
     "text": [
      "The probability of bag B selected: 359237.045\n"
     ]
    }
   ],
   "source": [
    "X=350870 +(0.675*12405)\n",
    "X=359237.045\n",
    "print(\"The probability of bag B selected:\",X)"
   ]
  },
  {
   "cell_type": "markdown",
   "id": "6c3e8ddb",
   "metadata": {},
   "source": [
    "<h2>Ques 7</h2> "
   ]
  },
  {
   "cell_type": "code",
   "execution_count": 27,
   "id": "9e553b19",
   "metadata": {},
   "outputs": [
    {
     "name": "stdout",
     "output_type": "stream",
     "text": [
      "F-STATISTIC is  : 0.9921235138705414\n"
     ]
    }
   ],
   "source": [
    "UC=[44,21,36,34,77,32,29,39,92,67,45,37]\n",
    "MV=[47,81,41,79,38,20,33,83,41,40,69,36]\n",
    "import numpy as np\n",
    "x = np.array(UC)\n",
    "y = np.array(MV)\n",
    "f = np.var(x, ddof=1)/np.var(y, ddof=1)\n",
    "print(\"F-STATISTIC is  :\",f)"
   ]
  },
  {
   "cell_type": "markdown",
   "id": "cbb3befe",
   "metadata": {},
   "source": [
    "<h2>Ques 9</h2>"
   ]
  },
  {
   "cell_type": "code",
   "execution_count": 28,
   "id": "3e188f9a",
   "metadata": {},
   "outputs": [
    {
     "name": "stdout",
     "output_type": "stream",
     "text": [
      "0.040177141568228006\n"
     ]
    }
   ],
   "source": [
    "from scipy.stats import poisson\n",
    "prob = poisson.pmf(k=80,mu=76)\n",
    "print(prob)"
   ]
  },
  {
   "cell_type": "code",
   "execution_count": null,
   "id": "f02b840e",
   "metadata": {},
   "outputs": [],
   "source": []
  }
 ],
 "metadata": {
  "kernelspec": {
   "display_name": "Python 3 (ipykernel)",
   "language": "python",
   "name": "python3"
  },
  "language_info": {
   "codemirror_mode": {
    "name": "ipython",
    "version": 3
   },
   "file_extension": ".py",
   "mimetype": "text/x-python",
   "name": "python",
   "nbconvert_exporter": "python",
   "pygments_lexer": "ipython3",
   "version": "3.9.7"
  }
 },
 "nbformat": 4,
 "nbformat_minor": 5
}
